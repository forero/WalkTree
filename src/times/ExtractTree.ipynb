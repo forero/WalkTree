{
 "metadata": {
  "name": "ExtractTree"
 },
 "nbformat": 3,
 "nbformat_minor": 0,
 "worksheets": [
  {
   "cells": [
    {
     "cell_type": "code",
     "collapsed": false,
     "input": [
      "%pylab inline"
     ],
     "language": "python",
     "metadata": {},
     "outputs": [
      {
       "output_type": "stream",
       "stream": "stdout",
       "text": [
        "\n",
        "Welcome to pylab, a matplotlib-based Python environment [backend: module://IPython.zmq.pylab.backend_inline].\n",
        "For more information, type 'help(pylab)'.\n"
       ]
      }
     ],
     "prompt_number": 3
    },
    {
     "cell_type": "code",
     "collapsed": false,
     "input": [
      "tree_file = \"/home/forero/work/data/Bolshoi/BDM_Trees/plain_tree_0_0_0.dat\""
     ],
     "language": "python",
     "metadata": {},
     "outputs": [],
     "prompt_number": 4
    },
    {
     "cell_type": "code",
     "collapsed": false,
     "input": [
      "tree_data = loadtxt(tree_file)"
     ],
     "language": "python",
     "metadata": {},
     "outputs": [],
     "prompt_number": 5
    },
    {
     "cell_type": "code",
     "collapsed": false,
     "input": [
      "shape(tree_data)\n",
      "#tree_root_ID = tree_data[:,30]"
     ],
     "language": "python",
     "metadata": {},
     "outputs": [
      {
       "output_type": "pyout",
       "prompt_number": 6,
       "text": [
        "(16841442, 42)"
       ]
      }
     ],
     "prompt_number": 6
    },
    {
     "cell_type": "code",
     "collapsed": false,
     "input": [
      "tree_root_ID = int_(tree_data[:,29])"
     ],
     "language": "python",
     "metadata": {},
     "outputs": [],
     "prompt_number": 14
    },
    {
     "cell_type": "code",
     "collapsed": false,
     "input": [
      "import sets"
     ],
     "language": "python",
     "metadata": {},
     "outputs": [],
     "prompt_number": 9
    },
    {
     "cell_type": "code",
     "collapsed": false,
     "input": [
      "unique_tree_root_ID = array(list(sets.Set(tree_root_ID)))"
     ],
     "language": "python",
     "metadata": {},
     "outputs": [],
     "prompt_number": 19
    },
    {
     "cell_type": "code",
     "collapsed": false,
     "input": [
      "#for tree_ID in unique_tree_root_ID:\n",
      "TREE_ROOT_ID  = 29\n",
      "LAST_PROGENITOR_DEPTH_FIRST = 33\n",
      "DEPTH_FIRST_ID = 28\n",
      "#this selects all the halos inside a tree\n",
      "tree_ID = unique_tree_root_ID[0]\n",
      "print tree_ID\n",
      "good_index = where(tree_data[:,TREE_ROOT_ID] == tree_ID)\n",
      "print tree_ID, size(good_index[0])\n",
      "tmp_tree = tree_data[good_index[0],:]\n",
      "\n",
      "# I want to know the list where LAST_PROGENITOR is equal to DEPTH_FIRST_ID. Those are \n",
      "# the tips of the branches at high redshift\n",
      "tmp_branches = where((int_(tmp_tree[:,LAST_PROGENITOR_DEPTH_FIRST])==(int_(tmp_tree[:,DEPTH_FIRST_ID]))))\n",
      "tmp_branches = int_(tmp_branches[0])\n",
      "print \"branches\", tmp_branches, int_(tmp_tree[tmp_branches,LAST_PROGENITOR_DEPTH_FIRST])\n",
      "\n",
      "# I select the smallest of these values, that corresponds to the main branch\n",
      "tmp_last_prog_ID = amin(int_(tmp_tree[tmp_branches,LAST_PROGENITOR_DEPTH_FIRST]))\n",
      "\n",
      "#this is a consistency check, the tree_ID must be the same as the halo_ID of the first halo\n",
      "tmp_ID = int_(tmp_tree[0,1])\n",
      "if(tmp_ID!=tree_ID):\n",
      "    print \"FATAL ERROR in main halo indexing\"\n",
      "    exit\n",
      "\n",
      "    #this is the ID of the main halo in the depth first order\n",
      "tmp_first_ID = int_(tmp_tree[0,DEPTH_FIRST_ID])\n",
      "\n",
      "#at this point all the halos in the main branch must have IDs between tmp_first_ID and tmp_last_prog_ID\n",
      "if(tmp_first_ID>tmp_last_prog_ID):\n",
      "    print \"FATAL ERROR in branch indexing\"\n",
      "    exit\n",
      "good_branch_index = where((int_(tmp_tree[:,DEPTH_FIRST_ID])>= tmp_first_ID) & (int_(tmp_tree[:,DEPTH_FIRST_ID])<=tmp_last_prog_ID))\n",
      "good_branch_index = good_branch_index[0]\n",
      "\n",
      "#this is the final selection of the aexp, halo mass and merger_aexp\n",
      "branch_mass = tmp_tree[good_branch_index,9]\n",
      "branch_aexp = tmp_tree[good_branch_index,0]\n",
      "branch_x = tmp_tree[good_branch_index,19]\n",
      "print size(good_branch_index)\n"
     ],
     "language": "python",
     "metadata": {},
     "outputs": [
      {
       "output_type": "stream",
       "stream": "stdout",
       "text": [
        "2129224471\n",
        "2129224471"
       ]
      },
      {
       "output_type": "stream",
       "stream": "stdout",
       "text": [
        " 147\n",
        "branches 146 1231554973\n",
        "147\n"
       ]
      }
     ],
     "prompt_number": 154
    },
    {
     "cell_type": "code",
     "collapsed": false,
     "input": [
      "plot(branch_aexp, branch_mass)"
     ],
     "language": "python",
     "metadata": {},
     "outputs": [
      {
       "output_type": "pyout",
       "prompt_number": 155,
       "text": [
        "[<matplotlib.lines.Line2D at 0x5de212190>]"
       ]
      },
      {
       "output_type": "display_data",
       "png": "[encoded data removed]",
       "text": [
        "<matplotlib.figure.Figure at 0x5e460a690>"
       ]
      }
     ],
     "prompt_number": 155
    },
    {
     "cell_type": "code",
     "collapsed": false,
     "input": [
      "plot(aexp, mass_real)"
     ],
     "language": "python",
     "metadata": {},
     "outputs": [
      {
       "output_type": "pyout",
       "prompt_number": 83,
       "text": [
        "[<matplotlib.lines.Line2D at 0x5cc7ed3d0>]"
       ]
      },
      {
       "output_type": "display_data",
       "png": "[encoded data removed]",
       "text": [
        "<matplotlib.figure.Figure at 0x5c7bb2f50>"
       ]
      }
     ],
     "prompt_number": 83
    },
    {
     "cell_type": "code",
     "collapsed": false,
     "input": [],
     "language": "python",
     "metadata": {},
     "outputs": []
    }
   ],
   "metadata": {}
  }
 ]
}