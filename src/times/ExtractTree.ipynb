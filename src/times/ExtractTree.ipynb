{
 "metadata": {
  "name": "ExtractTree"
 },
 "nbformat": 3,
 "nbformat_minor": 0,
 "worksheets": [
  {
   "cells": [
    {
     "cell_type": "code",
     "collapsed": false,
     "input": [
      "import numpy as np\n",
      "import sys\n",
      "import sets"
     ],
     "language": "python",
     "metadata": {},
     "outputs": [],
     "prompt_number": 44
    },
    {
     "cell_type": "code",
     "collapsed": false,
     "input": [
      "def formation_epoch(mass_history, aexp_history):\n",
      "    aexp_formation = 0.0\n",
      "    if(np.size(mass_history)>1):\n",
      "        tmp_mass_history = mass_history/mass_history[0]\n",
      "        for (mass, aexp) in zip(tmp_mass_history,aexp_history):\n",
      "            if(mass < 0.5):\n",
      "                aexp_formation = aexp\n",
      "                break\n",
      "\n",
      "    return aexp_formation\n"
     ],
     "language": "python",
     "metadata": {},
     "outputs": [],
     "prompt_number": 18
    },
    {
     "cell_type": "code",
     "collapsed": false,
     "input": [
      "tree_file = str(sys.argv[1]),\n",
      "condensed_tree_file=str(sys.argv[2])\n",
      "\n",
      "#tree_file = \"/home/forero/work/data/Bolshoi/BDM_Trees/plain_tree_0_0_0.dat\"\n",
      "#condensed_tree_file=\"/home/forero/work/data/Bolshoi/times/times_tree_0_0_0.dat\""
     ],
     "language": "python",
     "metadata": {},
     "outputs": [],
     "prompt_number": 3
    },
    {
     "cell_type": "code",
     "collapsed": false,
     "input": [
      "tree_data = np.loadtxt(tree_file)"
     ],
     "language": "python",
     "metadata": {},
     "outputs": [],
     "prompt_number": 5
    },
    {
     "cell_type": "code",
     "collapsed": false,
     "input": [
      "np.shape(tree_data)\n",
      "#tree_root_ID = tree_data[:,30]"
     ],
     "language": "python",
     "metadata": {},
     "outputs": [
      {
       "output_type": "pyout",
       "prompt_number": 7,
       "text": [
        "(16841442, 42)"
       ]
      }
     ],
     "prompt_number": 7
    },
    {
     "cell_type": "code",
     "collapsed": false,
     "input": [
      "tree_root_ID = np.int_(tree_data[:,29])"
     ],
     "language": "python",
     "metadata": {},
     "outputs": [],
     "prompt_number": 8
    },
    {
     "cell_type": "code",
     "collapsed": false,
     "input": [],
     "language": "python",
     "metadata": {},
     "outputs": [],
     "prompt_number": 9
    },
    {
     "cell_type": "code",
     "collapsed": false,
     "input": [
      "unique_tree_root_ID = np.array(list(sets.Set(tree_root_ID)))\n",
      "print np.size(unique_tree_root_ID)"
     ],
     "language": "python",
     "metadata": {},
     "outputs": [
      {
       "output_type": "stream",
       "stream": "stdout",
       "text": [
        "87925\n"
       ]
      }
     ],
     "prompt_number": 12
    },
    {
     "cell_type": "code",
     "collapsed": false,
     "input": [
      "#for tree_ID in unique_tree_root_ID:\n",
      "TREE_ROOT_ID  = 29\n",
      "ORIGINAL_HALO_ID = 30\n",
      "SNAP_NUM = 31\n",
      "HOST_HALO_ID=5\n",
      "LAST_PROGENITOR_DEPTH_FIRST = 33\n",
      "DEPTH_FIRST_ID = 28\n",
      "COL_MVIR = 10\n",
      "COL_AEXP = 0\n",
      "COL_LAST_MM = 15\n",
      "COL_POS_X = 17\n",
      "COL_POS_Y = 18\n",
      "COL_POS_Z = 19\n",
      "COL_VEL_X = 20\n",
      "COL_VEL_Y = 21\n",
      "COL_VEL_Z = 22\n",
      "COL_J_X = 23\n",
      "COL_J_Y = 24\n",
      "COL_J_Z = 25\n",
      "COL_SPIN = 26\n",
      "\n",
      "out = open(condensed_tree_file, 'w')\n",
      "out.write(\"# tree_ID(0) host_halo_ID(1) BDM_ID(2) SNAP_NUMP(3) MASS(4) AEXP_LAST_MM(5) AEXP_FORMATION(6)\")\n",
      "out.write(\"# POS_X(7) POS_Y(8) POS_Z(9) VEL_X(10) VEL_Y(11) VEL_Z(12) SPIN(13)\\n\")\n",
      "#this selects all the halos inside a tree\n",
      "#for tree_ID in unique_tree_root_ID:\n",
      "for i in range(10):\n",
      "    tree_ID = unique_tree_root_ID[i]\n",
      "    #print tree_ID\n",
      "    good_index = np.where(tree_data[:,TREE_ROOT_ID] == tree_ID)\n",
      "#    print tree_ID, size(good_index[0])\n",
      "    tmp_tree = tree_data[good_index[0],:]\n",
      "\n",
      "    # I want to know the list where LAST_PROGENITOR is equal to DEPTH_FIRST_ID. Those are \n",
      "    # the tips of the branches at high redshift\n",
      "    tmp_branches = np.where((np.int_(tmp_tree[:,LAST_PROGENITOR_DEPTH_FIRST])==(np.int_(tmp_tree[:,DEPTH_FIRST_ID]))))\n",
      "    tmp_branches = np.int_(tmp_branches[0])\n",
      "    #print \"branches\", tmp_branches, int_(tmp_tree[tmp_branches,LAST_PROGENITOR_DEPTH_FIRST])\n",
      "\n",
      "    # I select the smallest of these values, which corresponds to the tip of the main branch\n",
      "    tmp_last_prog_ID = np.amin(np.int_(tmp_tree[tmp_branches,LAST_PROGENITOR_DEPTH_FIRST]))\n",
      "\n",
      "    #this is a consistency check, the tree_ID must be the same as the halo_ID of the first halo\n",
      "    tmp_ID = np.int_(tmp_tree[0,1])\n",
      "    if(tmp_ID!=tree_ID):\n",
      "        print \"FATAL ERROR in main halo indexing\"\n",
      "        exit\n",
      "\n",
      "    #this is the ID of the main halo in the depth first order\n",
      "    tmp_first_ID = np.int_(tmp_tree[0,DEPTH_FIRST_ID])\n",
      "\n",
      "    #at this point all the halos in the main branch must have IDs between tmp_first_ID and tmp_last_prog_ID\n",
      "    if(tmp_first_ID>tmp_last_prog_ID):\n",
      "        print \"FATAL ERROR in branch indexing\"\n",
      "        exit\n",
      "    good_branch_index = np.where((np.int_(tmp_tree[:,DEPTH_FIRST_ID])>= tmp_first_ID) & (np.int_(tmp_tree[:,DEPTH_FIRST_ID])<=tmp_last_prog_ID))\n",
      "    good_branch_index = good_branch_index[0]\n",
      "\n",
      "    #this is the final selection of the aexp, halo mass and merger_aexp\n",
      "    branch_mass = tmp_tree[good_branch_index,COL_MVIR]\n",
      "    branch_aexp = tmp_tree[good_branch_index,COL_AEXP]\n",
      "    branch_last_mm = tmp_tree[good_branch_index, COL_LAST_MM]\n",
      "    branch_pos_x = tmp_tree[good_branch_index, COL_POS_X]\n",
      "#    print np.int_(tmp_tree[good_branch_index,ORIGINAL_HALO_ID]), np.int_(tmp_tree[good_branch_index,SNAP_NUM])\n",
      "    \n",
      "    out.write(\"%ld %ld %ld %d %e %f %f %f %f %f %f %f %f %f\\n\"%\\\n",
      "                (tree_ID, np.int_(tmp_tree[good_branch_index,HOST_HALO_ID][0]),\\\n",
      "                np.int_(tmp_tree[good_branch_index,ORIGINAL_HALO_ID][0]), np.int_(tmp_tree[good_branch_index,SNAP_NUM][0]),\\\n",
      "                branch_mass[0], branch_last_mm[0],formation_epoch(branch_mass, branch_aexp),\\\n",
      "                tmp_tree[good_branch_index,COL_POS_X][0], \\\n",
      "                tmp_tree[good_branch_index,COL_POS_Y][0],\\\n",
      "                tmp_tree[good_branch_index,COL_POS_Z][0],\\\n",
      "                tmp_tree[good_branch_index,COL_VEL_X][0], \\\n",
      "                tmp_tree[good_branch_index,COL_VEL_Y][0],\\\n",
      "                tmp_tree[good_branch_index,COL_VEL_Z][0],\\\n",
      "                tmp_tree[good_branch_index,COL_SPIN][0]\n",
      "                ))\n",
      "                \n",
      "              \n",
      "out.close()\n",
      "print \"Done writing\"\n"
     ],
     "language": "python",
     "metadata": {},
     "outputs": [
      {
       "output_type": "stream",
       "stream": "stdout",
       "text": [
        "Done writing\n"
       ]
      }
     ],
     "prompt_number": 43
    },
    {
     "cell_type": "code",
     "collapsed": false,
     "input": [
      "print \"formation\", formation_epoch(branch_mass, branch_aexp)"
     ],
     "language": "python",
     "metadata": {},
     "outputs": [
      {
       "output_type": "stream",
       "stream": "stdout",
       "text": [
        "formation 1.0 1.0003\n",
        "1.05127719962 0.9973\n",
        "1.05127719962 0.9943\n",
        "1.05127719962 0.9913\n",
        "1.02554399243 0.9883\n",
        "1.05127719962 0.9853\n",
        "1.07682119205 0.9823\n",
        "1.07682119205 0.9793\n",
        "1.07682119205 0.9763\n",
        "1.07682119205 0.9733\n",
        "0.97426679281 0.9703\n",
        "1.02554399243 0.9673\n",
        "1.05127719962 0.9643\n",
        "1.02554399243 0.9613\n",
        "1.0 0.9583\n",
        "0.97426679281 0.9523\n",
        "1.0 0.9493\n",
        "1.0 0.9463\n",
        "1.10255439924 0.9433\n",
        "1.0 0.9373\n",
        "1.10255439924 0.9343\n",
        "1.10255439924 0.9313\n",
        "1.10255439924 0.9283\n",
        "1.12809839167 0.9223\n",
        "1.05127719962 0.9193\n",
        "1.05127719962 0.9163\n",
        "1.05127719962 0.9133\n",
        "1.05127719962 0.9103\n",
        "1.02554399243 0.9073\n",
        "1.02554399243 0.9043\n",
        "1.02554399243 0.9013\n",
        "1.02554399243 0.8983\n",
        "1.07682119205 0.8953\n",
        "1.07682119205 0.8923\n",
        "1.07682119205 0.8893\n",
        "1.07682119205 0.8863\n",
        "1.07682119205 0.8833\n",
        "1.10255439924 0.8803\n",
        "1.10255439924 0.8773\n",
        "1.10255439924 0.8743\n",
        "1.12809839167 0.8713\n",
        "1.12809839167 0.8683\n",
        "1.10255439924 0.8653\n",
        "1.10255439924 0.8623\n",
        "1.12809839167 0.8593\n",
        "1.10255439924 0.8563\n",
        "1.07682119205 0.8533\n",
        "1.07682119205 0.8503\n",
        "1.05127719962 0.8473\n",
        "1.07682119205 0.8443\n",
        "1.07682119205 0.8413\n",
        "1.10255439924 0.8383\n",
        "1.02554399243 0.8353\n",
        "1.07682119205 0.8323\n",
        "1.05127719962 0.8293\n",
        "1.07682119205 0.8263\n",
        "1.05127719962 0.8233\n",
        "1.05127719962 0.8203\n",
        "1.05127719962 0.8173\n",
        "1.07682119205 0.8143\n",
        "1.05127719962 0.8113\n",
        "1.07682119205 0.8083\n",
        "1.05127719962 0.8023\n",
        "1.07682119205 0.7963\n",
        "1.0 0.7903\n",
        "1.10255439924 0.7843\n",
        "1.1793755913 0.7783\n",
        "1.1793755913 0.7723\n",
        "1.15383159886 0.7663\n",
        "1.1793755913 0.7603\n",
        "1.1793755913 0.7543\n",
        "1.1793755913 0.7483\n",
        "1.10255439924 0.7423\n",
        "1.05127719962 0.7363\n",
        "1.05127719962 0.7303\n",
        "0.97426679281 0.7243\n",
        "1.05127719962 0.7183\n",
        "0.948722800378 0.7123\n",
        "1.02554399243 0.7063\n",
        "1.0 0.7003\n",
        "0.97426679281 0.6943\n",
        "0.948722800378 0.6883\n",
        "1.0 0.6823\n",
        "1.0 0.6763\n",
        "1.05127719962 0.6703\n",
        "1.07682119205 0.6643\n",
        "1.0 0.6583\n",
        "1.0 0.6523\n",
        "1.0 0.6463\n",
        "1.0 0.6403\n",
        "0.97426679281 0.6343\n",
        "0.97426679281 0.6283\n",
        "0.97426679281 0.6223\n",
        "0.948722800378 0.6163\n",
        "0.948722800378 0.6103\n",
        "0.948722800378 0.6043\n",
        "0.97426679281 0.5983\n",
        "0.897445600757 0.5923\n",
        "0.922989593188 0.5863\n",
        "0.871712393567 0.5803\n",
        "0.846168401135 0.5743\n",
        "0.794891201514 0.5683\n",
        "0.794891201514 0.5623\n",
        "0.846168401135 0.5563\n",
        "0.820435193945 0.5503\n",
        "0.794891201514 0.5443\n",
        "0.743614001892 0.5383\n",
        "0.743614001892 0.5323\n",
        "0.769157994324 0.5283\n",
        "0.717880794702 0.5223\n",
        "0.641059602649 0.5163\n",
        "0.538315988647 0.5103\n",
        "0.512771996216 0.5043\n",
        "0.512771996216 0.4983\n",
        "-1.0\n"
       ]
      }
     ],
     "prompt_number": 197
    },
    {
     "cell_type": "code",
     "collapsed": false,
     "input": [
      "plot(branch_aexp, branch_pos_x)"
     ],
     "language": "python",
     "metadata": {},
     "outputs": [
      {
       "output_type": "pyout",
       "prompt_number": 198,
       "text": [
        "[<matplotlib.lines.Line2D at 0x5e40aaa50>]"
       ]
      },
      {
       "output_type": "display_data",
       "png": "[encoded data removed]",
       "text": [
        "<matplotlib.figure.Figure at 0x4e033eed0>"
       ]
      }
     ],
     "prompt_number": 198
    },
    {
     "cell_type": "code",
     "collapsed": false,
     "input": [],
     "language": "python",
     "metadata": {},
     "outputs": [
      {
       "output_type": "stream",
       "stream": "stdout",
       "text": [
        "[ 1.0003  0.9973  0.9943  0.9913  0.9883  0.9853  0.9823  0.9793  0.9763\n",
        "  0.9733  0.9703  0.9673  0.9643  0.9613  0.9583  0.9523  0.9493  0.9463\n",
        "  0.9433  0.9373  0.9343  0.9313  0.9283  0.9223  0.9193  0.9163  0.9133\n",
        "  0.9103  0.9073  0.9043  0.9013  0.8983  0.8953  0.8923  0.8893  0.8863\n",
        "  0.8833  0.8803  0.8773  0.8743  0.8713  0.8683  0.8653  0.8623  0.8593\n",
        "  0.8563  0.8533  0.8503  0.8473  0.8443  0.8413  0.8383  0.8353  0.8323\n",
        "  0.8293  0.8263  0.8233  0.8203  0.8173  0.8143  0.8113  0.8083  0.8023\n",
        "  0.7963  0.7903  0.7843  0.7783  0.7723  0.7663  0.7603  0.7543  0.7483\n",
        "  0.7423  0.7363  0.7303  0.7243  0.7183  0.7123  0.7063  0.7003  0.6943\n",
        "  0.6883  0.6823  0.6763  0.6703  0.6643  0.6583  0.6523  0.6463  0.6403\n",
        "  0.6343  0.6283  0.6223  0.6163  0.6103  0.6043  0.5983  0.5923  0.5863\n",
        "  0.5803  0.5743  0.5683  0.5623  0.5563  0.5503  0.5443  0.5383  0.5323\n",
        "  0.5283  0.5223  0.5163  0.5103  0.5043  0.4983  0.4863  0.4803  0.4743\n",
        "  0.4683  0.4623  0.4563  0.4503  0.4443  0.4383  0.4323  0.4263  0.4203\n",
        "  0.4143  0.4083  0.4023  0.3963  0.3903  0.3843  0.3783  0.3723  0.3663\n",
        "  0.3603  0.3543  0.3483  0.3423  0.3363  0.3303  0.3243  0.3183  0.3123\n",
        "  0.3063  0.2943  0.2883  0.2823  0.2763  0.2703  0.2643  0.2583  0.2523\n",
        "  0.2463  0.2343  0.2283  0.2223  0.2163  0.2103  0.2043  0.2023  0.1983\n",
        "  0.1923  0.1863  0.1803  0.1743  0.1683  0.1623  0.1563  0.1503  0.1443\n",
        "  0.1383] [  2.75200000e+11   2.74900000e+11   2.74500000e+11   2.73700000e+11\n",
        "   2.74400000e+11   2.73200000e+11   2.72600000e+11   2.73700000e+11\n",
        "   2.73400000e+11   2.73600000e+11   2.72600000e+11   2.71000000e+11\n",
        "   2.70200000e+11   2.66500000e+11   2.65300000e+11   2.61000000e+11\n",
        "   2.66300000e+11   2.62200000e+11   2.67600000e+11   2.68000000e+11\n",
        "   2.69200000e+11   2.69100000e+11   2.69000000e+11   2.69200000e+11\n",
        "   2.68600000e+11   2.68400000e+11   2.66500000e+11   2.67600000e+11\n",
        "   2.67900000e+11   2.67700000e+11   2.67500000e+11   2.66000000e+11\n",
        "   2.64200000e+11   2.65300000e+11   2.66700000e+11   2.67300000e+11\n",
        "   2.65600000e+11   2.65200000e+11   2.61000000e+11   2.59900000e+11\n",
        "   2.61900000e+11   2.63300000e+11   2.61900000e+11   2.62300000e+11\n",
        "   2.62200000e+11   2.60400000e+11   2.60200000e+11   2.59100000e+11\n",
        "   2.59500000e+11   2.59600000e+11   2.59400000e+11   2.57300000e+11\n",
        "   2.58400000e+11   2.56900000e+11   2.57300000e+11   2.56600000e+11\n",
        "   2.55000000e+11   2.55400000e+11   2.53000000e+11   2.54100000e+11\n",
        "   2.51800000e+11   2.51200000e+11   2.48500000e+11   2.47000000e+11\n",
        "   2.48700000e+11   2.46300000e+11   2.40900000e+11   2.36000000e+11\n",
        "   2.37500000e+11   2.34200000e+11   2.35500000e+11   2.36200000e+11\n",
        "   2.35800000e+11   2.39300000e+11   2.36700000e+11   2.38200000e+11\n",
        "   2.37800000e+11   2.33500000e+11   2.32200000e+11   2.36700000e+11\n",
        "   2.38800000e+11   2.38600000e+11   2.30200000e+11   2.28300000e+11\n",
        "   2.32400000e+11   2.21600000e+11   2.30500000e+11   2.29500000e+11\n",
        "   2.27400000e+11   2.26700000e+11   2.29700000e+11   2.28000000e+11\n",
        "   2.26600000e+11   2.20300000e+11   2.20300000e+11   2.19100000e+11\n",
        "   2.15000000e+11   2.05400000e+11   2.00800000e+11   1.94700000e+11\n",
        "   1.92500000e+11   1.88900000e+11   1.90700000e+11   1.87000000e+11\n",
        "   1.79900000e+11   1.75600000e+11   1.74900000e+11   1.69200000e+11\n",
        "   1.72800000e+11   1.74700000e+11   1.80100000e+11   1.75900000e+11\n",
        "   1.78100000e+11   1.71900000e+11   1.62600000e+11   1.60200000e+11\n",
        "   1.61600000e+11   1.62200000e+11   1.59600000e+11   1.56800000e+11\n",
        "   1.48000000e+11   1.52300000e+11   1.47400000e+11   1.46700000e+11\n",
        "   1.49900000e+11   1.45400000e+11   1.40700000e+11   1.33200000e+11\n",
        "   1.21700000e+11   1.19700000e+11   1.21500000e+11   1.20600000e+11\n",
        "   1.15500000e+11   1.06100000e+11   9.75600000e+10   9.37700000e+10\n",
        "   8.91600000e+10   8.71300000e+10   8.29300000e+10   7.95400000e+10\n",
        "   7.85900000e+10   7.65600000e+10   7.39800000e+10   7.08700000e+10\n",
        "   6.99200000e+10   6.96500000e+10   6.95100000e+10   6.88400000e+10\n",
        "   6.62600000e+10   6.38200000e+10   6.09800000e+10   5.28500000e+10\n",
        "   5.42000000e+10   4.86500000e+10   3.65900000e+10   3.40100000e+10\n",
        "   3.14400000e+10   2.71000000e+10   1.22000000e+10   9.89200000e+09\n",
        "   9.48500000e+09   9.21400000e+09   8.26600000e+09   5.82700000e+09\n",
        "   4.06500000e+09   4.47200000e+09   4.87800000e+09   4.87800000e+09\n",
        "   4.60700000e+09   4.06500000e+09   3.38800000e+09   2.71000000e+09]\n"
       ]
      }
     ],
     "prompt_number": 183
    },
    {
     "cell_type": "code",
     "collapsed": false,
     "input": [
      "formation_epoch(branch_mass, branch_aexp)"
     ],
     "language": "python",
     "metadata": {},
     "outputs": [
      {
       "output_type": "pyout",
       "prompt_number": 187,
       "text": [
        "0.4083"
       ]
      }
     ],
     "prompt_number": 187
    },
    {
     "cell_type": "code",
     "collapsed": false,
     "input": [],
     "language": "python",
     "metadata": {},
     "outputs": []
    }
   ],
   "metadata": {}
  }
 ]
}